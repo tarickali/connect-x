{
 "cells": [
  {
   "cell_type": "code",
   "execution_count": 1,
   "metadata": {},
   "outputs": [],
   "source": [
    "import numpy as np\n",
    "import numba as nb"
   ]
  },
  {
   "cell_type": "code",
   "execution_count": 2,
   "metadata": {},
   "outputs": [],
   "source": [
    "SHAPE = (7, 8)\n",
    "K = 4\n",
    "PLAYERS = [1, 2]"
   ]
  },
  {
   "cell_type": "code",
   "execution_count": 3,
   "metadata": {},
   "outputs": [],
   "source": [
    "@nb.njit(nb.int8[:,:](nb.types.UniTuple(nb.int8, 2)))\n",
    "def create_grid(shape: tuple[int, int]) -> np.ndarray:\n",
    "    return np.zeros(shape, dtype=np.int8)"
   ]
  },
  {
   "cell_type": "code",
   "execution_count": 4,
   "metadata": {},
   "outputs": [],
   "source": [
    "from typing import NamedTuple\n",
    "\n",
    "State = NamedTuple('State', grid=np.ndarray, player=int, time=int)\n"
   ]
  },
  {
   "cell_type": "code",
   "execution_count": 5,
   "metadata": {},
   "outputs": [],
   "source": [
    "@nb.njit(nb.int8[:,:](nb.int8[:,:], nb.int8, nb.int8))\n",
    "def transition(grid: np.ndarray, player: int, action: int) -> np.ndarray:\n",
    "    for row in range(grid.shape[0]):\n",
    "        if grid[row][action] != 0:\n",
    "            grid[row - 1][action] = player\n",
    "            break\n",
    "    else:\n",
    "        grid[grid.shape[0] - 1][action] = player \n",
    "    return grid"
   ]
  },
  {
   "cell_type": "code",
   "execution_count": 6,
   "metadata": {},
   "outputs": [],
   "source": [
    "@nb.njit(nb.int8[:](nb.int8[:,:]))\n",
    "def generate_actions(grid: np.ndarray) -> np.ndarray:\n",
    "    actions = np.zeros(grid.shape[1], np.int8)\n",
    "    for col in range(grid.shape[1]):\n",
    "        if not np.all(grid[:, col] != 0):\n",
    "            actions[col] = 1 \n",
    "    return actions"
   ]
  },
  {
   "cell_type": "code",
   "execution_count": 7,
   "metadata": {},
   "outputs": [],
   "source": [
    "@nb.njit(nb.boolean(nb.int8[:]))\n",
    "def check_line(line: np.ndarray) -> bool:\n",
    "    return line[0] != 0 and np.min(line) == np.max(line)\n",
    "\n",
    "@nb.njit(nb.boolean(nb.int8[:,:], nb.int8))\n",
    "def check_horizontal_lines(grid: np.ndarray, k: int) -> bool: # tuple[bool, tuple[tuple[int, int], tuple[int, int]]]:\n",
    "    for row in range(grid.shape[0]):\n",
    "        # Get the columns of the row\n",
    "        subgrid = grid[row, :]\n",
    "        assert subgrid.ndim == 1 and subgrid.shape[0] == grid.shape[1]\n",
    "        # Loop for all valid length k lines of row\n",
    "        for col in range(grid.shape[1] - k + 1):\n",
    "            # Get the length k line starting from k of row\n",
    "            line = subgrid[col : col + k]\n",
    "            assert line.shape[0] == k\n",
    "            # Check if line is full\n",
    "            if check_line(line):\n",
    "                return True #, ((row, col), (row , col + k - 1))\n",
    "    return False\n",
    "\n",
    "@nb.njit(nb.boolean(nb.int8[:,:], nb.int8))\n",
    "def check_vertical_lines(grid: np.ndarray, k: int) -> bool: # tuple[bool, tuple[tuple[int, int], tuple[int, int]]]:\n",
    "    for col in range(grid.shape[1]):\n",
    "        # Get the rows of the col\n",
    "        subgrid = grid[:, col]\n",
    "        assert subgrid.ndim == 1 and subgrid.shape[0] == grid.shape[0]\n",
    "        # Loop for all valid length k lines of col\n",
    "        for row in range(grid.shape[0] - k + 1):\n",
    "            # Get the length k line starting from k of col\n",
    "            line = subgrid[row : row + k]\n",
    "            assert line.shape[0] == k\n",
    "            # Check if line is full\n",
    "            if check_line(line):\n",
    "                return True # ((row, col), (row + k - 1, col))\n",
    "    return False\n",
    "\n",
    "@nb.njit(nb.boolean(nb.int8[:,:], nb.int8))\n",
    "def check_diagonal_lines(grid: np.ndarray, k: int) -> bool:\n",
    "    for row in range(grid.shape[0]):\n",
    "        # Check if row + k goes out of bounds of the grid\n",
    "        if row + k > grid.shape[0]:\n",
    "            break\n",
    "        for col in range(grid.shape[1]):\n",
    "            # Check if col + k goes out of bounds of the grid\n",
    "            if col + k > grid.shape[1]:\n",
    "                break\n",
    "            # Get the k x k subgrid to check the diagonals\n",
    "            subgrid = grid[row : row + k, col : col + k]\n",
    "            assert subgrid.shape[0] == subgrid.shape[1] == k\n",
    "            # Get the main and anti diagonals of the subgrid\n",
    "            lr_line =  np.diag(subgrid)\n",
    "            rl_line = np.diag(np.fliplr(subgrid))\n",
    "            # Check if either of the lines are full\n",
    "            if check_line(lr_line) or check_line(rl_line):\n",
    "                return True\n",
    "    return False\n",
    "\n",
    "@nb.njit(nb.boolean(nb.int8[:,:]))\n",
    "def check_tie(grid: np.ndarray) -> bool:\n",
    "    return np.all(grid != 0)\n",
    "\n",
    "@nb.njit(nb.boolean(nb.int8[:,:], nb.int8))\n",
    "def terminal(grid: np.ndarray, k: int) -> bool:\n",
    "    return check_horizontal_lines(grid, k) or check_vertical_lines(grid, k) or check_diagonal_lines(grid, k) or check_tie(grid)"
   ]
  },
  {
   "cell_type": "code",
   "execution_count": 8,
   "metadata": {},
   "outputs": [],
   "source": [
    "@nb.njit\n",
    "def run(shape: tuple[int, int], k: int, players: list[int]) -> dict[str, int]:\n",
    "    grid = create_grid(shape)\n",
    "    time = 0\n",
    "    player = players[time % 2]\n",
    "\n",
    "    while not terminal(grid, k):\n",
    "        # Generate valid actions\n",
    "        actions = generate_actions(grid)\n",
    "        # Select action\n",
    "        action = np.random.choice(np.argwhere(actions == 1)[:, 0])\n",
    "        # Execute action\n",
    "        grid = transition(grid, player, action)\n",
    "        # Adjust state\n",
    "        time += 1\n",
    "        # Get current player\n",
    "        player = players[time % 2]\n",
    "\n",
    "    return (grid, time)"
   ]
  },
  {
   "cell_type": "code",
   "execution_count": null,
   "metadata": {},
   "outputs": [],
   "source": [
    "from typing import TypedDict\n",
    "\n",
    "# Shape = tuple[int, int]\n",
    "# Config = TypedDict('Config', {'shape': Shape, 'k': int, 'players': list[int]})"
   ]
  },
  {
   "cell_type": "code",
   "execution_count": 3,
   "metadata": {},
   "outputs": [],
   "source": [
    "from typing import Optional\n",
    "from numba.experimental import jitclass\n",
    "from connectx.types import Config, Grid, Info, Action, Actions, State\n",
    "import connectx.functional as cxf\n",
    "from connectx.renderer import terminal_render as render\n",
    "\n",
    "spec = [\n",
    "    (\"config\", Config),\n",
    "    (\"grid\", Grid),\n",
    "    (\"info\", Info),\n",
    "    (\"actions\", Actions)\n",
    "]\n",
    "\n",
    "class Game():\n",
    "    def __init__(self, config: Config) -> None:\n",
    "        self._config: Config = config\n",
    "        self._grid: Grid = None\n",
    "        self._actions: Actions = None\n",
    "        self._info: Info = None\n",
    "\n",
    "    def start(self, state: Optional[State] = None) -> tuple[State, Actions]:\n",
    "        if state is None:\n",
    "            self._grid = cxf.create_grid(self._config[\"shape\"])\n",
    "            self._info = {\"active\": 0, \"time\": 0}\n",
    "        else:\n",
    "            self._grid = state[\"grid\"]\n",
    "            self._info = state[\"info\"]\n",
    "\n",
    "        self._actions = cxf.generate_actions(self._grid)\n",
    "\n",
    "        return self.state, self.actions\n",
    "    \n",
    "    def transition(self, action: Action) -> tuple[State, Actions]:\n",
    "        token = self._config[\"players\"][self._info[\"active\"]]\n",
    "        self._grid = cxf.place_token(self._grid, token, action)\n",
    "\n",
    "        self._info[\"time\"] += 1\n",
    "        self._info[\"active\"] = self._info[\"time\"] % 2\n",
    "\n",
    "        self._actions = cxf.generate_actions(self._grid)\n",
    "\n",
    "        return self.state, self.actions\n",
    "\n",
    "    def terminal(self) -> bool:\n",
    "        return cxf.terminal(self._grid, self._config[\"k\"])\n",
    "    \n",
    "    def render(self) -> None:\n",
    "        render(self._grid, self._info[\"time\"], self._config[\"players\"][self._info[\"active\"]])\n",
    "     \n",
    "    @property\n",
    "    def state(self) -> State:\n",
    "        return {\n",
    "            \"grid\": self._grid,\n",
    "            \"info\": self._info\n",
    "        }\n",
    "\n",
    "    @property\n",
    "    def actions(self) -> Actions: \n",
    "        return self._actions"
   ]
  },
  {
   "cell_type": "code",
   "execution_count": 5,
   "metadata": {},
   "outputs": [
    {
     "data": {
      "text/plain": [
       "array([[0, 0, 0, 0, 0, 0, 0],\n",
       "       [0, 0, 0, 0, 0, 0, 0],\n",
       "       [0, 0, 0, 0, 0, 0, 0],\n",
       "       [0, 0, 0, 0, 0, 0, 0],\n",
       "       [0, 0, 0, 0, 0, 0, 0],\n",
       "       [1, 0, 0, 0, 0, 0, 0]], dtype=uint8)"
      ]
     },
     "execution_count": 5,
     "metadata": {},
     "output_type": "execute_result"
    }
   ],
   "source": [
    "game = Game(Config(shape=(6, 7), k=4, players=[1, 2]))\n",
    "\n",
    "# print(game._grid)\n",
    "game.start()\n",
    "game.transition(0)"
   ]
  },
  {
   "cell_type": "code",
   "execution_count": null,
   "metadata": {},
   "outputs": [],
   "source": [
    "@nb.vectorize\n",
    "def parallel():\n",
    "    pass"
   ]
  },
  {
   "cell_type": "code",
   "execution_count": 27,
   "metadata": {},
   "outputs": [],
   "source": [
    "def get_report(grid: np.ndarray, time: int, players: list[int]) -> dict[str, int]:\n",
    "    # Get game-report\n",
    "    report = nb.typed.Dict.empty(nb.types.string, nb.types.int8)\n",
    "    if check_tie(grid):\n",
    "        report = {\"winner\": 0, \"time\": time}\n",
    "    else:\n",
    "        report = {\n",
    "            \"winner\": players[(time - 1) % 2], \"time\": time\n",
    "        }\n",
    "\n",
    "    return report"
   ]
  },
  {
   "cell_type": "code",
   "execution_count": 33,
   "metadata": {},
   "outputs": [
    {
     "data": {
      "text/plain": [
       "{'winner': 1, 'time': 233}"
      ]
     },
     "execution_count": 33,
     "metadata": {},
     "output_type": "execute_result"
    }
   ],
   "source": [
    "grid, time = run((25, 28), 10, PLAYERS)\n",
    "get_report(grid, time, PLAYERS)"
   ]
  },
  {
   "cell_type": "code",
   "execution_count": 77,
   "metadata": {},
   "outputs": [
    {
     "name": "stdout",
     "output_type": "stream",
     "text": [
      "1.05 µs ± 7.68 ns per loop (mean ± std. dev. of 7 runs, 1,000,000 loops each)\n"
     ]
    }
   ],
   "source": [
    "%%timeit\n",
    "generate_actions(grid)"
   ]
  },
  {
   "cell_type": "code",
   "execution_count": 74,
   "metadata": {},
   "outputs": [
    {
     "name": "stdout",
     "output_type": "stream",
     "text": [
      "27.9 µs ± 289 ns per loop (mean ± std. dev. of 7 runs, 10,000 loops each)\n"
     ]
    }
   ],
   "source": [
    "%%timeit\n",
    "generate_actions(grid)"
   ]
  },
  {
   "cell_type": "code",
   "execution_count": 67,
   "metadata": {},
   "outputs": [
    {
     "name": "stdout",
     "output_type": "stream",
     "text": [
      "30 µs ± 694 ns per loop (mean ± std. dev. of 7 runs, 10,000 loops each)\n"
     ]
    }
   ],
   "source": [
    "%%timeit\n",
    "check_horizontal_lines(grid, k)"
   ]
  },
  {
   "cell_type": "code",
   "execution_count": 65,
   "metadata": {},
   "outputs": [
    {
     "name": "stdout",
     "output_type": "stream",
     "text": [
      "353 ns ± 4.71 ns per loop (mean ± std. dev. of 7 runs, 1,000,000 loops each)\n"
     ]
    }
   ],
   "source": [
    "%%timeit\n",
    "check_horizontal_lines(grid, k)"
   ]
  },
  {
   "cell_type": "code",
   "execution_count": null,
   "metadata": {},
   "outputs": [],
   "source": []
  }
 ],
 "metadata": {
  "kernelspec": {
   "display_name": "ai",
   "language": "python",
   "name": "python3"
  },
  "language_info": {
   "codemirror_mode": {
    "name": "ipython",
    "version": 3
   },
   "file_extension": ".py",
   "mimetype": "text/x-python",
   "name": "python",
   "nbconvert_exporter": "python",
   "pygments_lexer": "ipython3",
   "version": "3.11.3"
  }
 },
 "nbformat": 4,
 "nbformat_minor": 2
}
